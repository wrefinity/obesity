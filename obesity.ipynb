{
 "cells": [
  {
   "cell_type": "code",
   "execution_count": 124,
   "id": "d1ac2d4f",
   "metadata": {},
   "outputs": [],
   "source": [
    "import numpy as np\n",
    "import pandas as pd\n",
    "import matplotlib.pyplot as plt\n",
    "import seaborn as sns\n",
    "from sklearn.preprocessing import StandardScaler, LabelEncoder\n",
    "from sklearn.model_selection import train_test_split\n",
    "from sklearn.metrics import confusion_matrix, accuracy_score, classification_report, roc_auc_score\n",
    "\n",
    "from tensorflow.keras.models import Sequential\n",
    "from tensorflow.keras.optimizers import Adam\n",
    "from tensorflow.keras.layers import Dense, Flatten\n",
    "from tensorflow import keras as k\n",
    "import tensorflow as t\n",
    "from keras.losses import sparse_categorical_crossentropy\n",
    "import itertools"
   ]
  },
  {
   "cell_type": "code",
   "execution_count": 44,
   "id": "7fad2b24",
   "metadata": {},
   "outputs": [],
   "source": [
    "df = pd.read_csv(\"ObesityDataSet_raw_and_data_sinthetic.csv\")"
   ]
  },
  {
   "cell_type": "code",
   "execution_count": 45,
   "id": "8a2e47a8",
   "metadata": {},
   "outputs": [
    {
     "data": {
      "text/html": [
       "<div>\n",
       "<style scoped>\n",
       "    .dataframe tbody tr th:only-of-type {\n",
       "        vertical-align: middle;\n",
       "    }\n",
       "\n",
       "    .dataframe tbody tr th {\n",
       "        vertical-align: top;\n",
       "    }\n",
       "\n",
       "    .dataframe thead th {\n",
       "        text-align: right;\n",
       "    }\n",
       "</style>\n",
       "<table border=\"1\" class=\"dataframe\">\n",
       "  <thead>\n",
       "    <tr style=\"text-align: right;\">\n",
       "      <th></th>\n",
       "      <th>Gender</th>\n",
       "      <th>Age</th>\n",
       "      <th>Height</th>\n",
       "      <th>Weight</th>\n",
       "      <th>family_history_with_overweight</th>\n",
       "      <th>FAVC</th>\n",
       "      <th>FCVC</th>\n",
       "      <th>NCP</th>\n",
       "      <th>CAEC</th>\n",
       "      <th>SMOKE</th>\n",
       "      <th>CH2O</th>\n",
       "      <th>SCC</th>\n",
       "      <th>FAF</th>\n",
       "      <th>TUE</th>\n",
       "      <th>CALC</th>\n",
       "      <th>MTRANS</th>\n",
       "      <th>NObeyesdad</th>\n",
       "    </tr>\n",
       "  </thead>\n",
       "  <tbody>\n",
       "    <tr>\n",
       "      <th>0</th>\n",
       "      <td>Female</td>\n",
       "      <td>21.0</td>\n",
       "      <td>1.62</td>\n",
       "      <td>64.0</td>\n",
       "      <td>yes</td>\n",
       "      <td>no</td>\n",
       "      <td>2.0</td>\n",
       "      <td>3.0</td>\n",
       "      <td>Sometimes</td>\n",
       "      <td>no</td>\n",
       "      <td>2.0</td>\n",
       "      <td>no</td>\n",
       "      <td>0.0</td>\n",
       "      <td>1.0</td>\n",
       "      <td>no</td>\n",
       "      <td>Public_Transportation</td>\n",
       "      <td>Normal_Weight</td>\n",
       "    </tr>\n",
       "    <tr>\n",
       "      <th>1</th>\n",
       "      <td>Female</td>\n",
       "      <td>21.0</td>\n",
       "      <td>1.52</td>\n",
       "      <td>56.0</td>\n",
       "      <td>yes</td>\n",
       "      <td>no</td>\n",
       "      <td>3.0</td>\n",
       "      <td>3.0</td>\n",
       "      <td>Sometimes</td>\n",
       "      <td>yes</td>\n",
       "      <td>3.0</td>\n",
       "      <td>yes</td>\n",
       "      <td>3.0</td>\n",
       "      <td>0.0</td>\n",
       "      <td>Sometimes</td>\n",
       "      <td>Public_Transportation</td>\n",
       "      <td>Normal_Weight</td>\n",
       "    </tr>\n",
       "    <tr>\n",
       "      <th>2</th>\n",
       "      <td>Male</td>\n",
       "      <td>23.0</td>\n",
       "      <td>1.80</td>\n",
       "      <td>77.0</td>\n",
       "      <td>yes</td>\n",
       "      <td>no</td>\n",
       "      <td>2.0</td>\n",
       "      <td>3.0</td>\n",
       "      <td>Sometimes</td>\n",
       "      <td>no</td>\n",
       "      <td>2.0</td>\n",
       "      <td>no</td>\n",
       "      <td>2.0</td>\n",
       "      <td>1.0</td>\n",
       "      <td>Frequently</td>\n",
       "      <td>Public_Transportation</td>\n",
       "      <td>Normal_Weight</td>\n",
       "    </tr>\n",
       "    <tr>\n",
       "      <th>3</th>\n",
       "      <td>Male</td>\n",
       "      <td>27.0</td>\n",
       "      <td>1.80</td>\n",
       "      <td>87.0</td>\n",
       "      <td>no</td>\n",
       "      <td>no</td>\n",
       "      <td>3.0</td>\n",
       "      <td>3.0</td>\n",
       "      <td>Sometimes</td>\n",
       "      <td>no</td>\n",
       "      <td>2.0</td>\n",
       "      <td>no</td>\n",
       "      <td>2.0</td>\n",
       "      <td>0.0</td>\n",
       "      <td>Frequently</td>\n",
       "      <td>Walking</td>\n",
       "      <td>Overweight_Level_I</td>\n",
       "    </tr>\n",
       "    <tr>\n",
       "      <th>4</th>\n",
       "      <td>Male</td>\n",
       "      <td>22.0</td>\n",
       "      <td>1.78</td>\n",
       "      <td>89.8</td>\n",
       "      <td>no</td>\n",
       "      <td>no</td>\n",
       "      <td>2.0</td>\n",
       "      <td>1.0</td>\n",
       "      <td>Sometimes</td>\n",
       "      <td>no</td>\n",
       "      <td>2.0</td>\n",
       "      <td>no</td>\n",
       "      <td>0.0</td>\n",
       "      <td>0.0</td>\n",
       "      <td>Sometimes</td>\n",
       "      <td>Public_Transportation</td>\n",
       "      <td>Overweight_Level_II</td>\n",
       "    </tr>\n",
       "  </tbody>\n",
       "</table>\n",
       "</div>"
      ],
      "text/plain": [
       "   Gender   Age  Height  Weight family_history_with_overweight FAVC  FCVC  \\\n",
       "0  Female  21.0    1.62    64.0                            yes   no   2.0   \n",
       "1  Female  21.0    1.52    56.0                            yes   no   3.0   \n",
       "2    Male  23.0    1.80    77.0                            yes   no   2.0   \n",
       "3    Male  27.0    1.80    87.0                             no   no   3.0   \n",
       "4    Male  22.0    1.78    89.8                             no   no   2.0   \n",
       "\n",
       "   NCP       CAEC SMOKE  CH2O  SCC  FAF  TUE        CALC  \\\n",
       "0  3.0  Sometimes    no   2.0   no  0.0  1.0          no   \n",
       "1  3.0  Sometimes   yes   3.0  yes  3.0  0.0   Sometimes   \n",
       "2  3.0  Sometimes    no   2.0   no  2.0  1.0  Frequently   \n",
       "3  3.0  Sometimes    no   2.0   no  2.0  0.0  Frequently   \n",
       "4  1.0  Sometimes    no   2.0   no  0.0  0.0   Sometimes   \n",
       "\n",
       "                  MTRANS           NObeyesdad  \n",
       "0  Public_Transportation        Normal_Weight  \n",
       "1  Public_Transportation        Normal_Weight  \n",
       "2  Public_Transportation        Normal_Weight  \n",
       "3                Walking   Overweight_Level_I  \n",
       "4  Public_Transportation  Overweight_Level_II  "
      ]
     },
     "execution_count": 45,
     "metadata": {},
     "output_type": "execute_result"
    }
   ],
   "source": [
    "df.head()"
   ]
  },
  {
   "cell_type": "code",
   "execution_count": 46,
   "id": "a8595c09",
   "metadata": {},
   "outputs": [
    {
     "data": {
      "text/plain": [
       "False"
      ]
     },
     "execution_count": 46,
     "metadata": {},
     "output_type": "execute_result"
    }
   ],
   "source": [
    "df.isnull().values.any()"
   ]
  },
  {
   "cell_type": "code",
   "execution_count": 47,
   "id": "50f47c53",
   "metadata": {},
   "outputs": [
    {
     "name": "stdout",
     "output_type": "stream",
     "text": [
      "<class 'pandas.core.frame.DataFrame'>\n",
      "RangeIndex: 2111 entries, 0 to 2110\n",
      "Data columns (total 17 columns):\n",
      " #   Column                          Non-Null Count  Dtype  \n",
      "---  ------                          --------------  -----  \n",
      " 0   Gender                          2111 non-null   object \n",
      " 1   Age                             2111 non-null   float64\n",
      " 2   Height                          2111 non-null   float64\n",
      " 3   Weight                          2111 non-null   float64\n",
      " 4   family_history_with_overweight  2111 non-null   object \n",
      " 5   FAVC                            2111 non-null   object \n",
      " 6   FCVC                            2111 non-null   float64\n",
      " 7   NCP                             2111 non-null   float64\n",
      " 8   CAEC                            2111 non-null   object \n",
      " 9   SMOKE                           2111 non-null   object \n",
      " 10  CH2O                            2111 non-null   float64\n",
      " 11  SCC                             2111 non-null   object \n",
      " 12  FAF                             2111 non-null   float64\n",
      " 13  TUE                             2111 non-null   float64\n",
      " 14  CALC                            2111 non-null   object \n",
      " 15  MTRANS                          2111 non-null   object \n",
      " 16  NObeyesdad                      2111 non-null   object \n",
      "dtypes: float64(8), object(9)\n",
      "memory usage: 280.5+ KB\n"
     ]
    }
   ],
   "source": [
    "df.info()"
   ]
  },
  {
   "cell_type": "code",
   "execution_count": 48,
   "id": "8de7f28b",
   "metadata": {},
   "outputs": [
    {
     "data": {
      "text/plain": [
       "(2111, 17)"
      ]
     },
     "execution_count": 48,
     "metadata": {},
     "output_type": "execute_result"
    }
   ],
   "source": [
    "df.shape"
   ]
  },
  {
   "cell_type": "code",
   "execution_count": 49,
   "id": "8ec04682",
   "metadata": {},
   "outputs": [
    {
     "data": {
      "text/plain": [
       "Gender                             object\n",
       "Age                               float64\n",
       "Height                            float64\n",
       "Weight                            float64\n",
       "family_history_with_overweight     object\n",
       "FAVC                               object\n",
       "FCVC                              float64\n",
       "NCP                               float64\n",
       "CAEC                               object\n",
       "SMOKE                              object\n",
       "CH2O                              float64\n",
       "SCC                                object\n",
       "FAF                               float64\n",
       "TUE                               float64\n",
       "CALC                               object\n",
       "MTRANS                             object\n",
       "NObeyesdad                         object\n",
       "dtype: object"
      ]
     },
     "execution_count": 49,
     "metadata": {},
     "output_type": "execute_result"
    }
   ],
   "source": [
    "df.dtypes"
   ]
  },
  {
   "cell_type": "code",
   "execution_count": 50,
   "id": "c340ffa1",
   "metadata": {},
   "outputs": [
    {
     "data": {
      "text/html": [
       "<div>\n",
       "<style scoped>\n",
       "    .dataframe tbody tr th:only-of-type {\n",
       "        vertical-align: middle;\n",
       "    }\n",
       "\n",
       "    .dataframe tbody tr th {\n",
       "        vertical-align: top;\n",
       "    }\n",
       "\n",
       "    .dataframe thead th {\n",
       "        text-align: right;\n",
       "    }\n",
       "</style>\n",
       "<table border=\"1\" class=\"dataframe\">\n",
       "  <thead>\n",
       "    <tr style=\"text-align: right;\">\n",
       "      <th></th>\n",
       "      <th>count</th>\n",
       "      <th>mean</th>\n",
       "      <th>std</th>\n",
       "      <th>min</th>\n",
       "      <th>25%</th>\n",
       "      <th>50%</th>\n",
       "      <th>75%</th>\n",
       "      <th>max</th>\n",
       "    </tr>\n",
       "  </thead>\n",
       "  <tbody>\n",
       "    <tr>\n",
       "      <th>Age</th>\n",
       "      <td>2111.0</td>\n",
       "      <td>24.312600</td>\n",
       "      <td>6.345968</td>\n",
       "      <td>14.00</td>\n",
       "      <td>19.947192</td>\n",
       "      <td>22.777890</td>\n",
       "      <td>26.000000</td>\n",
       "      <td>61.00</td>\n",
       "    </tr>\n",
       "    <tr>\n",
       "      <th>Height</th>\n",
       "      <td>2111.0</td>\n",
       "      <td>1.701677</td>\n",
       "      <td>0.093305</td>\n",
       "      <td>1.45</td>\n",
       "      <td>1.630000</td>\n",
       "      <td>1.700499</td>\n",
       "      <td>1.768464</td>\n",
       "      <td>1.98</td>\n",
       "    </tr>\n",
       "    <tr>\n",
       "      <th>Weight</th>\n",
       "      <td>2111.0</td>\n",
       "      <td>86.586058</td>\n",
       "      <td>26.191172</td>\n",
       "      <td>39.00</td>\n",
       "      <td>65.473343</td>\n",
       "      <td>83.000000</td>\n",
       "      <td>107.430682</td>\n",
       "      <td>173.00</td>\n",
       "    </tr>\n",
       "    <tr>\n",
       "      <th>FCVC</th>\n",
       "      <td>2111.0</td>\n",
       "      <td>2.419043</td>\n",
       "      <td>0.533927</td>\n",
       "      <td>1.00</td>\n",
       "      <td>2.000000</td>\n",
       "      <td>2.385502</td>\n",
       "      <td>3.000000</td>\n",
       "      <td>3.00</td>\n",
       "    </tr>\n",
       "    <tr>\n",
       "      <th>NCP</th>\n",
       "      <td>2111.0</td>\n",
       "      <td>2.685628</td>\n",
       "      <td>0.778039</td>\n",
       "      <td>1.00</td>\n",
       "      <td>2.658738</td>\n",
       "      <td>3.000000</td>\n",
       "      <td>3.000000</td>\n",
       "      <td>4.00</td>\n",
       "    </tr>\n",
       "    <tr>\n",
       "      <th>CH2O</th>\n",
       "      <td>2111.0</td>\n",
       "      <td>2.008011</td>\n",
       "      <td>0.612953</td>\n",
       "      <td>1.00</td>\n",
       "      <td>1.584812</td>\n",
       "      <td>2.000000</td>\n",
       "      <td>2.477420</td>\n",
       "      <td>3.00</td>\n",
       "    </tr>\n",
       "    <tr>\n",
       "      <th>FAF</th>\n",
       "      <td>2111.0</td>\n",
       "      <td>1.010298</td>\n",
       "      <td>0.850592</td>\n",
       "      <td>0.00</td>\n",
       "      <td>0.124505</td>\n",
       "      <td>1.000000</td>\n",
       "      <td>1.666678</td>\n",
       "      <td>3.00</td>\n",
       "    </tr>\n",
       "    <tr>\n",
       "      <th>TUE</th>\n",
       "      <td>2111.0</td>\n",
       "      <td>0.657866</td>\n",
       "      <td>0.608927</td>\n",
       "      <td>0.00</td>\n",
       "      <td>0.000000</td>\n",
       "      <td>0.625350</td>\n",
       "      <td>1.000000</td>\n",
       "      <td>2.00</td>\n",
       "    </tr>\n",
       "  </tbody>\n",
       "</table>\n",
       "</div>"
      ],
      "text/plain": [
       "         count       mean        std    min        25%        50%         75%  \\\n",
       "Age     2111.0  24.312600   6.345968  14.00  19.947192  22.777890   26.000000   \n",
       "Height  2111.0   1.701677   0.093305   1.45   1.630000   1.700499    1.768464   \n",
       "Weight  2111.0  86.586058  26.191172  39.00  65.473343  83.000000  107.430682   \n",
       "FCVC    2111.0   2.419043   0.533927   1.00   2.000000   2.385502    3.000000   \n",
       "NCP     2111.0   2.685628   0.778039   1.00   2.658738   3.000000    3.000000   \n",
       "CH2O    2111.0   2.008011   0.612953   1.00   1.584812   2.000000    2.477420   \n",
       "FAF     2111.0   1.010298   0.850592   0.00   0.124505   1.000000    1.666678   \n",
       "TUE     2111.0   0.657866   0.608927   0.00   0.000000   0.625350    1.000000   \n",
       "\n",
       "           max  \n",
       "Age      61.00  \n",
       "Height    1.98  \n",
       "Weight  173.00  \n",
       "FCVC      3.00  \n",
       "NCP       4.00  \n",
       "CH2O      3.00  \n",
       "FAF       3.00  \n",
       "TUE       2.00  "
      ]
     },
     "execution_count": 50,
     "metadata": {},
     "output_type": "execute_result"
    }
   ],
   "source": [
    "df.describe().T"
   ]
  },
  {
   "cell_type": "code",
   "execution_count": 51,
   "id": "b69ebf10",
   "metadata": {},
   "outputs": [
    {
     "data": {
      "text/plain": [
       "Obesity_Type_I         351\n",
       "Obesity_Type_III       324\n",
       "Obesity_Type_II        297\n",
       "Overweight_Level_I     290\n",
       "Overweight_Level_II    290\n",
       "Normal_Weight          287\n",
       "Insufficient_Weight    272\n",
       "Name: NObeyesdad, dtype: int64"
      ]
     },
     "execution_count": 51,
     "metadata": {},
     "output_type": "execute_result"
    }
   ],
   "source": [
    "df['NObeyesdad'].value_counts()"
   ]
  },
  {
   "cell_type": "code",
   "execution_count": 52,
   "id": "70d96f00",
   "metadata": {},
   "outputs": [
    {
     "data": {
      "text/plain": [
       "count    2111.000000\n",
       "mean       24.312600\n",
       "std         6.345968\n",
       "min        14.000000\n",
       "25%        19.947192\n",
       "50%        22.777890\n",
       "75%        26.000000\n",
       "max        61.000000\n",
       "Name: Age, dtype: float64"
      ]
     },
     "execution_count": 52,
     "metadata": {},
     "output_type": "execute_result"
    }
   ],
   "source": [
    "df[\"Age\"].describe()"
   ]
  },
  {
   "cell_type": "code",
   "execution_count": 53,
   "id": "d2ef0c13",
   "metadata": {},
   "outputs": [
    {
     "data": {
      "text/plain": [
       "22.77789"
      ]
     },
     "execution_count": 53,
     "metadata": {},
     "output_type": "execute_result"
    }
   ],
   "source": [
    "df[\"Age\"].median()"
   ]
  },
  {
   "cell_type": "code",
   "execution_count": 54,
   "id": "ece419f3",
   "metadata": {},
   "outputs": [
    {
     "name": "stderr",
     "output_type": "stream",
     "text": [
      "C:\\Users\\WRASH-TECH\\anaconda3\\lib\\site-packages\\seaborn\\_decorators.py:36: FutureWarning: Pass the following variable as a keyword arg: x. From version 0.12, the only valid positional argument will be `data`, and passing other arguments without an explicit keyword will result in an error or misinterpretation.\n",
      "  warnings.warn(\n"
     ]
    },
    {
     "data": {
      "text/plain": [
       "<AxesSubplot:xlabel='NObeyesdad', ylabel='count'>"
      ]
     },
     "execution_count": 54,
     "metadata": {},
     "output_type": "execute_result"
    },
    {
     "data": {
      "image/png": "[encoded data removed]",
      "text/plain": [
       "<Figure size 432x288 with 1 Axes>"
      ]
     },
     "metadata": {
      "needs_background": "light"
     },
     "output_type": "display_data"
    }
   ],
   "source": [
    "sns.countplot(df['NObeyesdad'], label='count obesity')"
   ]
  },
  {
   "cell_type": "code",
   "execution_count": 55,
   "id": "596d7b29",
   "metadata": {},
   "outputs": [],
   "source": [
    "def plot_distribution(dataset, feature):\n",
    "\n",
    "    plt.hist(dataset[feature], bins = \"fd\")\n",
    "    \n",
    "    plt.axvline(dataset[feature].mean(), color = \"red\", label = \"mean\")\n",
    "    plt.axvline(dataset[feature].median(), color = \"orange\", label = \"median\")\n",
    "    \n",
    "    plt.xlabel(f\"{feature}\")\n",
    "    plt.ylabel(\"Count\")\n",
    "    plt.legend()\n",
    "    plt.title(f\"Distribution of values in {feature}\")\n",
    "    plt.show()\n"
   ]
  },
  {
   "cell_type": "code",
   "execution_count": 56,
   "id": "f7d0b715",
   "metadata": {},
   "outputs": [
    {
     "data": {
      "image/png": "[encoded data removed]",
      "text/plain": [
       "<Figure size 432x288 with 1 Axes>"
      ]
     },
     "metadata": {
      "needs_background": "light"
     },
     "output_type": "display_data"
    }
   ],
   "source": [
    "plot_distribution(df, \"Age\")"
   ]
  },
  {
   "cell_type": "code",
   "execution_count": 57,
   "id": "1a56e84f",
   "metadata": {},
   "outputs": [
    {
     "data": {
      "image/png": "[encoded data removed]",
      "text/plain": [
       "<Figure size 432x288 with 1 Axes>"
      ]
     },
     "metadata": {
      "needs_background": "light"
     },
     "output_type": "display_data"
    }
   ],
   "source": [
    "\n",
    "plot_distribution(df, \"Height\")\n"
   ]
  },
  {
   "cell_type": "code",
   "execution_count": 58,
   "id": "6ee1a573",
   "metadata": {},
   "outputs": [
    {
     "data": {
      "image/png": "[encoded data removed]",
      "text/plain": [
       "<Figure size 432x288 with 1 Axes>"
      ]
     },
     "metadata": {
      "needs_background": "light"
     },
     "output_type": "display_data"
    }
   ],
   "source": [
    "plot_distribution(df, \"Weight\")"
   ]
  },
  {
   "cell_type": "code",
   "execution_count": 59,
   "id": "d10b42c3",
   "metadata": {},
   "outputs": [
    {
     "data": {
      "image/png": "[encoded data removed]",
      "text/plain": [
       "<Figure size 432x288 with 1 Axes>"
      ]
     },
     "metadata": {
      "needs_background": "light"
     },
     "output_type": "display_data"
    }
   ],
   "source": [
    "plt.scatter(df[\"Height\"], df[\"Weight\"], alpha = 0.5)\n",
    "m, b = np.polyfit(df[\"Height\"], df[\"Weight\"], 1)\n",
    "plt.plot(df[\"Height\"], m * df[\"Height\"] + b, color = \"red\")\n",
    "\n",
    "plt.xlabel(\"Height [m]\")\n",
    "plt.ylabel(\"Weight [kg]\")\n",
    "plt.title(\"Correlation between 'Height' and 'Weight'\")\n",
    "plt.show()"
   ]
  },
  {
   "cell_type": "code",
   "execution_count": 60,
   "id": "2fdbd446",
   "metadata": {},
   "outputs": [
    {
     "data": {
      "image/png": "[encoded data removed]",
      "text/plain": [
       "<Figure size 864x720 with 2 Axes>"
      ]
     },
     "metadata": {
      "needs_background": "light"
     },
     "output_type": "display_data"
    }
   ],
   "source": [
    "plt.figure(figsize = (12, 10))\n",
    "sns.heatmap(df.corr(),\n",
    "           annot = True,\n",
    "           cmap = \"Blues_r\",\n",
    "           linewidths = 2, \n",
    "           linecolor = \"white\")\n",
    "plt.title(\"Correlation matrix of obesity data\")\n",
    "plt.show()"
   ]
  },
  {
   "cell_type": "code",
   "execution_count": 61,
   "id": "d66d961b",
   "metadata": {},
   "outputs": [
    {
     "name": "stderr",
     "output_type": "stream",
     "text": [
      "C:\\Users\\WRASH-~1\\AppData\\Local\\Temp/ipykernel_5732/3690943652.py:3: DeprecationWarning: Converting `np.inexact` or `np.floating` to a dtype is deprecated. The current result is `float64` which is not strictly correct.\n",
      "  if df[col].dtype != np.number:\n"
     ]
    }
   ],
   "source": [
    "lb = LabelEncoder()\n",
    "for col in df.columns:\n",
    "    if df[col].dtype != np.number:\n",
    "        df[col] = lb.fit_transform(df[col])\n",
    "        "
   ]
  },
  {
   "cell_type": "code",
   "execution_count": 62,
   "id": "841d3d49",
   "metadata": {},
   "outputs": [
    {
     "data": {
      "text/html": [
       "<div>\n",
       "<style scoped>\n",
       "    .dataframe tbody tr th:only-of-type {\n",
       "        vertical-align: middle;\n",
       "    }\n",
       "\n",
       "    .dataframe tbody tr th {\n",
       "        vertical-align: top;\n",
       "    }\n",
       "\n",
       "    .dataframe thead th {\n",
       "        text-align: right;\n",
       "    }\n",
       "</style>\n",
       "<table border=\"1\" class=\"dataframe\">\n",
       "  <thead>\n",
       "    <tr style=\"text-align: right;\">\n",
       "      <th></th>\n",
       "      <th>Gender</th>\n",
       "      <th>Age</th>\n",
       "      <th>Height</th>\n",
       "      <th>Weight</th>\n",
       "      <th>family_history_with_overweight</th>\n",
       "      <th>FAVC</th>\n",
       "      <th>FCVC</th>\n",
       "      <th>NCP</th>\n",
       "      <th>CAEC</th>\n",
       "      <th>SMOKE</th>\n",
       "      <th>CH2O</th>\n",
       "      <th>SCC</th>\n",
       "      <th>FAF</th>\n",
       "      <th>TUE</th>\n",
       "      <th>CALC</th>\n",
       "      <th>MTRANS</th>\n",
       "      <th>NObeyesdad</th>\n",
       "    </tr>\n",
       "  </thead>\n",
       "  <tbody>\n",
       "    <tr>\n",
       "      <th>0</th>\n",
       "      <td>0</td>\n",
       "      <td>21.0</td>\n",
       "      <td>1.62</td>\n",
       "      <td>64.0</td>\n",
       "      <td>1</td>\n",
       "      <td>0</td>\n",
       "      <td>2.0</td>\n",
       "      <td>3.0</td>\n",
       "      <td>2</td>\n",
       "      <td>0</td>\n",
       "      <td>2.0</td>\n",
       "      <td>0</td>\n",
       "      <td>0.0</td>\n",
       "      <td>1.0</td>\n",
       "      <td>3</td>\n",
       "      <td>3</td>\n",
       "      <td>1</td>\n",
       "    </tr>\n",
       "    <tr>\n",
       "      <th>1</th>\n",
       "      <td>0</td>\n",
       "      <td>21.0</td>\n",
       "      <td>1.52</td>\n",
       "      <td>56.0</td>\n",
       "      <td>1</td>\n",
       "      <td>0</td>\n",
       "      <td>3.0</td>\n",
       "      <td>3.0</td>\n",
       "      <td>2</td>\n",
       "      <td>1</td>\n",
       "      <td>3.0</td>\n",
       "      <td>1</td>\n",
       "      <td>3.0</td>\n",
       "      <td>0.0</td>\n",
       "      <td>2</td>\n",
       "      <td>3</td>\n",
       "      <td>1</td>\n",
       "    </tr>\n",
       "    <tr>\n",
       "      <th>2</th>\n",
       "      <td>1</td>\n",
       "      <td>23.0</td>\n",
       "      <td>1.80</td>\n",
       "      <td>77.0</td>\n",
       "      <td>1</td>\n",
       "      <td>0</td>\n",
       "      <td>2.0</td>\n",
       "      <td>3.0</td>\n",
       "      <td>2</td>\n",
       "      <td>0</td>\n",
       "      <td>2.0</td>\n",
       "      <td>0</td>\n",
       "      <td>2.0</td>\n",
       "      <td>1.0</td>\n",
       "      <td>1</td>\n",
       "      <td>3</td>\n",
       "      <td>1</td>\n",
       "    </tr>\n",
       "    <tr>\n",
       "      <th>3</th>\n",
       "      <td>1</td>\n",
       "      <td>27.0</td>\n",
       "      <td>1.80</td>\n",
       "      <td>87.0</td>\n",
       "      <td>0</td>\n",
       "      <td>0</td>\n",
       "      <td>3.0</td>\n",
       "      <td>3.0</td>\n",
       "      <td>2</td>\n",
       "      <td>0</td>\n",
       "      <td>2.0</td>\n",
       "      <td>0</td>\n",
       "      <td>2.0</td>\n",
       "      <td>0.0</td>\n",
       "      <td>1</td>\n",
       "      <td>4</td>\n",
       "      <td>5</td>\n",
       "    </tr>\n",
       "    <tr>\n",
       "      <th>4</th>\n",
       "      <td>1</td>\n",
       "      <td>22.0</td>\n",
       "      <td>1.78</td>\n",
       "      <td>89.8</td>\n",
       "      <td>0</td>\n",
       "      <td>0</td>\n",
       "      <td>2.0</td>\n",
       "      <td>1.0</td>\n",
       "      <td>2</td>\n",
       "      <td>0</td>\n",
       "      <td>2.0</td>\n",
       "      <td>0</td>\n",
       "      <td>0.0</td>\n",
       "      <td>0.0</td>\n",
       "      <td>2</td>\n",
       "      <td>3</td>\n",
       "      <td>6</td>\n",
       "    </tr>\n",
       "  </tbody>\n",
       "</table>\n",
       "</div>"
      ],
      "text/plain": [
       "   Gender   Age  Height  Weight  family_history_with_overweight  FAVC  FCVC  \\\n",
       "0       0  21.0    1.62    64.0                               1     0   2.0   \n",
       "1       0  21.0    1.52    56.0                               1     0   3.0   \n",
       "2       1  23.0    1.80    77.0                               1     0   2.0   \n",
       "3       1  27.0    1.80    87.0                               0     0   3.0   \n",
       "4       1  22.0    1.78    89.8                               0     0   2.0   \n",
       "\n",
       "   NCP  CAEC  SMOKE  CH2O  SCC  FAF  TUE  CALC  MTRANS  NObeyesdad  \n",
       "0  3.0     2      0   2.0    0  0.0  1.0     3       3           1  \n",
       "1  3.0     2      1   3.0    1  3.0  0.0     2       3           1  \n",
       "2  3.0     2      0   2.0    0  2.0  1.0     1       3           1  \n",
       "3  3.0     2      0   2.0    0  2.0  0.0     1       4           5  \n",
       "4  1.0     2      0   2.0    0  0.0  0.0     2       3           6  "
      ]
     },
     "execution_count": 62,
     "metadata": {},
     "output_type": "execute_result"
    }
   ],
   "source": [
    "df.head()"
   ]
  },
  {
   "cell_type": "code",
   "execution_count": 80,
   "id": "0a9f26ac",
   "metadata": {},
   "outputs": [],
   "source": [
    "x = df.drop(['NObeyesdad'], axis=1)\n",
    "y = df['NObeyesdad']"
   ]
  },
  {
   "cell_type": "code",
   "execution_count": 81,
   "id": "02e9dc09",
   "metadata": {},
   "outputs": [],
   "source": [
    "# features scaling\n",
    "scaler = StandardScaler()\n",
    "x[x.columns]= scaler.fit_transform(x)"
   ]
  },
  {
   "cell_type": "code",
   "execution_count": 82,
   "id": "9e134337",
   "metadata": {},
   "outputs": [],
   "source": [
    "x_train, x_test, y_train, y_test = train_test_split(x, y, test_size=0.2, random_state=42, shuffle=True)"
   ]
  },
  {
   "cell_type": "code",
   "execution_count": 101,
   "id": "072a6505",
   "metadata": {},
   "outputs": [],
   "source": [
    "# building the model\n",
    "model = Sequential()\n",
    "model.add(Flatten())\n",
    "model.add(Dense(64, input_dim=len(x.columns), kernel_initializer=k.initializers.random_normal\n",
    "                (seed=13), activation=\"relu\"))\n",
    "\n",
    "model.add(Dense(128, activation=\"relu\"))\n",
    "\n",
    "model.add(Dense(7, activation=\"softmax\"))\n",
    "\n"
   ]
  },
  {
   "cell_type": "code",
   "execution_count": 102,
   "id": "730f2236",
   "metadata": {},
   "outputs": [],
   "source": [
    "#compile the model\n",
    "# model.compile(loss=\"binary_crossentropy\", optimizer=\"adam\", metrics=['accuracy'])\n",
    "model.compile(loss=\"sparse_categorical_crossentropy\", optimizer=\"adam\", metrics=['accuracy'])"
   ]
  },
  {
   "cell_type": "code",
   "execution_count": 103,
   "id": "3b778fa4",
   "metadata": {},
   "outputs": [
    {
     "name": "stdout",
     "output_type": "stream",
     "text": [
      "Epoch 1/50\n",
      "53/53 [==============================] - 1s 2ms/step - loss: 1.6946 - accuracy: 0.4194\n",
      "Epoch 2/50\n",
      "53/53 [==============================] - 0s 3ms/step - loss: 1.0689 - accuracy: 0.6191\n",
      "Epoch 3/50\n",
      "53/53 [==============================] - 0s 3ms/step - loss: 0.7605 - accuracy: 0.7299\n",
      "Epoch 4/50\n",
      "53/53 [==============================] - 0s 3ms/step - loss: 0.6074 - accuracy: 0.7921\n",
      "Epoch 5/50\n",
      "53/53 [==============================] - 0s 3ms/step - loss: 0.4776 - accuracy: 0.8507\n",
      "Epoch 6/50\n",
      "53/53 [==============================] - 0s 3ms/step - loss: 0.3829 - accuracy: 0.8803\n",
      "Epoch 7/50\n",
      "53/53 [==============================] - 0s 3ms/step - loss: 0.3160 - accuracy: 0.9123\n",
      "Epoch 8/50\n",
      "53/53 [==============================] - 0s 3ms/step - loss: 0.2632 - accuracy: 0.9206\n",
      "Epoch 9/50\n",
      "53/53 [==============================] - 0s 3ms/step - loss: 0.2220 - accuracy: 0.9372\n",
      "Epoch 10/50\n",
      "53/53 [==============================] - 0s 3ms/step - loss: 0.1934 - accuracy: 0.9485\n",
      "Epoch 11/50\n",
      "53/53 [==============================] - 0s 3ms/step - loss: 0.1617 - accuracy: 0.9573\n",
      "Epoch 12/50\n",
      "53/53 [==============================] - 0s 3ms/step - loss: 0.1438 - accuracy: 0.9603\n",
      "Epoch 13/50\n",
      "53/53 [==============================] - 0s 3ms/step - loss: 0.1242 - accuracy: 0.9763\n",
      "Epoch 14/50\n",
      "53/53 [==============================] - 0s 3ms/step - loss: 0.1078 - accuracy: 0.9787\n",
      "Epoch 15/50\n",
      "53/53 [==============================] - 0s 3ms/step - loss: 0.0945 - accuracy: 0.9816\n",
      "Epoch 16/50\n",
      "53/53 [==============================] - 0s 3ms/step - loss: 0.0869 - accuracy: 0.9852\n",
      "Epoch 17/50\n",
      "53/53 [==============================] - 0s 3ms/step - loss: 0.0775 - accuracy: 0.9870\n",
      "Epoch 18/50\n",
      "53/53 [==============================] - 0s 3ms/step - loss: 0.0684 - accuracy: 0.9882\n",
      "Epoch 19/50\n",
      "53/53 [==============================] - 0s 3ms/step - loss: 0.0591 - accuracy: 0.9929\n",
      "Epoch 20/50\n",
      "53/53 [==============================] - 0s 4ms/step - loss: 0.0527 - accuracy: 0.9947\n",
      "Epoch 21/50\n",
      "53/53 [==============================] - 0s 3ms/step - loss: 0.0471 - accuracy: 0.9947\n",
      "Epoch 22/50\n",
      "53/53 [==============================] - 0s 2ms/step - loss: 0.0439 - accuracy: 0.9941\n",
      "Epoch 23/50\n",
      "53/53 [==============================] - 0s 3ms/step - loss: 0.0382 - accuracy: 0.9976\n",
      "Epoch 24/50\n",
      "53/53 [==============================] - 0s 3ms/step - loss: 0.0342 - accuracy: 0.9970\n",
      "Epoch 25/50\n",
      "53/53 [==============================] - 0s 3ms/step - loss: 0.0316 - accuracy: 0.9976\n",
      "Epoch 26/50\n",
      "53/53 [==============================] - 0s 2ms/step - loss: 0.0306 - accuracy: 0.9970\n",
      "Epoch 27/50\n",
      "53/53 [==============================] - 0s 3ms/step - loss: 0.0262 - accuracy: 0.9988\n",
      "Epoch 28/50\n",
      "53/53 [==============================] - 0s 2ms/step - loss: 0.0240 - accuracy: 1.0000\n",
      "Epoch 29/50\n",
      "53/53 [==============================] - 0s 3ms/step - loss: 0.0213 - accuracy: 0.9994\n",
      "Epoch 30/50\n",
      "53/53 [==============================] - 0s 2ms/step - loss: 0.0196 - accuracy: 0.9994\n",
      "Epoch 31/50\n",
      "53/53 [==============================] - 0s 2ms/step - loss: 0.0185 - accuracy: 0.9994\n",
      "Epoch 32/50\n",
      "53/53 [==============================] - 0s 2ms/step - loss: 0.0184 - accuracy: 0.9988\n",
      "Epoch 33/50\n",
      "53/53 [==============================] - 0s 2ms/step - loss: 0.0147 - accuracy: 1.0000\n",
      "Epoch 34/50\n",
      "53/53 [==============================] - 0s 2ms/step - loss: 0.0130 - accuracy: 1.0000\n",
      "Epoch 35/50\n",
      "53/53 [==============================] - 0s 3ms/step - loss: 0.0125 - accuracy: 1.0000\n",
      "Epoch 36/50\n",
      "53/53 [==============================] - 0s 2ms/step - loss: 0.0115 - accuracy: 1.0000\n",
      "Epoch 37/50\n",
      "53/53 [==============================] - 0s 3ms/step - loss: 0.0106 - accuracy: 1.0000\n",
      "Epoch 38/50\n",
      "53/53 [==============================] - 0s 3ms/step - loss: 0.0099 - accuracy: 1.0000\n",
      "Epoch 39/50\n",
      "53/53 [==============================] - 0s 3ms/step - loss: 0.0097 - accuracy: 1.0000\n",
      "Epoch 40/50\n",
      "53/53 [==============================] - 0s 3ms/step - loss: 0.0085 - accuracy: 1.0000\n",
      "Epoch 41/50\n",
      "53/53 [==============================] - 0s 2ms/step - loss: 0.0080 - accuracy: 1.0000\n",
      "Epoch 42/50\n",
      "53/53 [==============================] - 0s 3ms/step - loss: 0.0073 - accuracy: 1.0000\n",
      "Epoch 43/50\n",
      "53/53 [==============================] - 0s 3ms/step - loss: 0.0067 - accuracy: 1.0000\n",
      "Epoch 44/50\n",
      "53/53 [==============================] - 0s 3ms/step - loss: 0.0067 - accuracy: 1.0000\n",
      "Epoch 45/50\n",
      "53/53 [==============================] - 0s 3ms/step - loss: 0.0059 - accuracy: 1.0000\n",
      "Epoch 46/50\n",
      "53/53 [==============================] - 0s 3ms/step - loss: 0.0053 - accuracy: 1.0000\n",
      "Epoch 47/50\n",
      "53/53 [==============================] - 0s 3ms/step - loss: 0.0051 - accuracy: 1.0000\n",
      "Epoch 48/50\n",
      "53/53 [==============================] - 0s 3ms/step - loss: 0.0049 - accuracy: 1.0000\n",
      "Epoch 49/50\n",
      "53/53 [==============================] - 0s 3ms/step - loss: 0.0048 - accuracy: 1.0000\n",
      "Epoch 50/50\n",
      "53/53 [==============================] - 0s 3ms/step - loss: 0.0042 - accuracy: 1.0000\n"
     ]
    }
   ],
   "source": [
    "history = model.fit(x_train, y_train, epochs=50, batch_size=32)"
   ]
  },
  {
   "cell_type": "code",
   "execution_count": 104,
   "id": "023d7294",
   "metadata": {},
   "outputs": [
    {
     "name": "stdout",
     "output_type": "stream",
     "text": [
      "14/14 [==============================] - 0s 2ms/step - loss: 0.1419 - accuracy: 0.9669\n"
     ]
    },
    {
     "data": {
      "text/plain": [
       "[0.14192920923233032, 0.9669030904769897]"
      ]
     },
     "execution_count": 104,
     "metadata": {},
     "output_type": "execute_result"
    }
   ],
   "source": [
    "model.evaluate(x_test, y_test)"
   ]
  },
  {
   "cell_type": "code",
   "execution_count": 105,
   "id": "2b56414f",
   "metadata": {},
   "outputs": [],
   "source": [
    "model.save('modelObes.h5')"
   ]
  },
  {
   "cell_type": "code",
   "execution_count": 106,
   "id": "c8125245",
   "metadata": {},
   "outputs": [
    {
     "data": {
      "text/plain": [
       "Text(0.5, 0, 'epoch')"
      ]
     },
     "execution_count": 106,
     "metadata": {},
     "output_type": "execute_result"
    },
    {
     "data": {
      "image/png": "[encoded data removed]",
      "text/plain": [
       "<Figure size 432x288 with 1 Axes>"
      ]
     },
     "metadata": {
      "needs_background": "light"
     },
     "output_type": "display_data"
    }
   ],
   "source": [
    "plt.plot(history.history['accuracy'])\n",
    "plt.plot(history.history['loss'])\n",
    "plt.title('model accuracy and loss graph')\n",
    "plt.ylabel('accuracy and loss')\n",
    "plt.xlabel('epoch')"
   ]
  },
  {
   "cell_type": "code",
   "execution_count": 109,
   "id": "f1074438",
   "metadata": {},
   "outputs": [],
   "source": [
    "new_model = t.keras.models.load_model('modelObes.h5', custom_objects={'sparse_categorical_crossentropy':sparse_categorical_crossentropy})"
   ]
  },
  {
   "cell_type": "code",
   "execution_count": 110,
   "id": "9f2ee3c3",
   "metadata": {},
   "outputs": [],
   "source": [
    "y_pred = new_model.predict(x_test)"
   ]
  },
  {
   "cell_type": "code",
   "execution_count": 112,
   "id": "e1347f41",
   "metadata": {},
   "outputs": [
    {
     "data": {
      "text/plain": [
       "array([[9.9894708e-01, 1.0529557e-03, 1.3676956e-33, 0.0000000e+00,\n",
       "        2.1420632e-34, 1.1460448e-13, 1.8431289e-23],\n",
       "       [0.0000000e+00, 0.0000000e+00, 6.7986247e-07, 5.8854812e-07,\n",
       "        9.9999869e-01, 3.6549697e-30, 1.1163922e-15],\n",
       "       [9.9252796e-01, 7.4720932e-03, 1.5524210e-29, 7.3899964e-34,\n",
       "        2.0344874e-28, 1.0008279e-11, 1.2646122e-19],\n",
       "       [9.9980086e-01, 1.9920195e-04, 2.6418756e-28, 1.1984323e-30,\n",
       "        5.4213795e-27, 9.4281354e-13, 9.7355710e-23],\n",
       "       [6.6142973e-05, 6.5263629e-01, 1.0043063e-11, 5.3470758e-18,\n",
       "        9.7256662e-15, 3.4726763e-01, 2.9951816e-05]], dtype=float32)"
      ]
     },
     "execution_count": 112,
     "metadata": {},
     "output_type": "execute_result"
    }
   ],
   "source": [
    "y_pred[:5]"
   ]
  },
  {
   "cell_type": "code",
   "execution_count": 113,
   "id": "200fbc06",
   "metadata": {},
   "outputs": [],
   "source": [
    "preds = np.argmax(y_pred, axis=1)  # from log probabilities to 0 or 1\n",
    "probs = np.exp(y_pred[:,1])    "
   ]
  },
  {
   "cell_type": "code",
   "execution_count": 115,
   "id": "887d457f",
   "metadata": {},
   "outputs": [
    {
     "data": {
      "text/plain": [
       "array([0, 4, 0, 0, 1], dtype=int64)"
      ]
     },
     "execution_count": 115,
     "metadata": {},
     "output_type": "execute_result"
    }
   ],
   "source": [
    "preds[:5]"
   ]
  },
  {
   "cell_type": "code",
   "execution_count": 119,
   "id": "c988fef9",
   "metadata": {},
   "outputs": [
    {
     "name": "stdout",
     "output_type": "stream",
     "text": [
      "              precision    recall  f1-score   support\n",
      "\n",
      "           0  0.9180328 1.0000000 0.9572650        56\n",
      "           1  0.9482759 0.8870968 0.9166667        62\n",
      "           2  0.9871795 0.9871795 0.9871795        78\n",
      "           3  0.9827586 0.9827586 0.9827586        58\n",
      "           4  1.0000000 1.0000000 1.0000000        63\n",
      "           5  0.9454545 0.9285714 0.9369369        56\n",
      "           6  0.9800000 0.9800000 0.9800000        50\n",
      "\n",
      "    accuracy                      0.9669031       423\n",
      "   macro avg  0.9659573 0.9665152 0.9658295       423\n",
      "weighted avg  0.9672539 0.9669031 0.9666871       423\n",
      "\n"
     ]
    }
   ],
   "source": [
    "\n",
    "print(classification_report(y_test, preds, digits=7))"
   ]
  },
  {
   "cell_type": "code",
   "execution_count": 128,
   "id": "974f05e0",
   "metadata": {},
   "outputs": [
    {
     "name": "stdout",
     "output_type": "stream",
     "text": [
      "True Postive =  56\n",
      "True Negative =  55\n",
      "False Postive =  0\n",
      "False Negative =  5\n",
      "Testing Accuracy =  0.9568965517241379\n",
      "Using Accuracy Score 0.966903073286052\n"
     ]
    }
   ],
   "source": [
    "cm = confusion_matrix(y_test, preds)\n",
    "TP = cm[0][0]\n",
    "TN = cm[1][1]\n",
    "FP = cm[0][1]\n",
    "FN = cm[1][0]\n",
    "print(\"True Postive = \" , TP)\n",
    "print(\"True Negative = \" , TN)\n",
    "print(\"False Postive = \" , FP)\n",
    "print(\"False Negative = \" , FN)\n",
    "print(\"Testing Accuracy = \", (TP + TN)/(TP + TN + FP + FN))\n",
    "\n",
    "\n",
    "print(\"Using Accuracy Score\", accuracy_score(y_test, preds))"
   ]
  },
  {
   "cell_type": "code",
   "execution_count": 122,
   "id": "5c3faba1",
   "metadata": {},
   "outputs": [],
   "source": [
    "def plot_confusion_matrix(cm, classes,\n",
    "                          title='Confusion matrix',\n",
    "                          cmap=plt.cm.Blues):\n",
    "    \"\"\"\n",
    "    This function prints and plots the confusion matrix.\n",
    "    Normalization can be applied by setting `normalize=True`.\n",
    "    \"\"\"\n",
    "\n",
    "    cm = cm.astype('float') / cm.sum(axis=1)[:, np.newaxis]\n",
    "\n",
    "    plt.imshow(cm, interpolation='nearest', cmap=cmap)\n",
    "    plt.title(title, fontsize=30)\n",
    "    plt.colorbar()\n",
    "    tick_marks = np.arange(len(classes))\n",
    "    plt.xticks(tick_marks, classes, rotation=90, fontsize=22)\n",
    "    plt.yticks(tick_marks, classes, fontsize=22)\n",
    "\n",
    "    fmt = '.2f'\n",
    "    thresh = cm.max() / 2.\n",
    "    for i, j in itertools.product(range(cm.shape[0]), range(cm.shape[1])):\n",
    "        plt.text(j, i, format(cm[i, j], fmt),\n",
    "                 horizontalalignment=\"center\",\n",
    "                 color=\"white\" if cm[i, j] > thresh else \"black\")\n",
    "\n",
    "    plt.ylabel('True label', fontsize=25)\n",
    "    plt.xlabel('Predicted label', fontsize=25)"
   ]
  },
  {
   "cell_type": "code",
   "execution_count": 125,
   "id": "d782c485",
   "metadata": {},
   "outputs": [
    {
     "data": {
      "image/png": "[encoded data removed]",
      "text/plain": [
       "<Figure size 864x864 with 2 Axes>"
      ]
     },
     "metadata": {
      "needs_background": "light"
     },
     "output_type": "display_data"
    }
   ],
   "source": [
    "plt.figure(figsize=(12,12))\n",
    "plot_confusion_matrix(cm, classes=df['NObeyesdad'].unique(), title=\"Confusion matrix\")\n",
    "plt.show()"
   ]
  }
 ],
 "metadata": {
  "kernelspec": {
   "display_name": "Python 3 (ipykernel)",
   "language": "python",
   "name": "python3"
  },
  "language_info": {
   "codemirror_mode": {
    "name": "ipython",
    "version": 3
   },
   "file_extension": ".py",
   "mimetype": "text/x-python",
   "name": "python",
   "nbconvert_exporter": "python",
   "pygments_lexer": "ipython3",
   "version": "3.9.7"
  }
 },
 "nbformat": 4,
 "nbformat_minor": 5
}
